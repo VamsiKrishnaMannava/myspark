{
  "cells": [
    {
      "cell_type": "markdown",
      "source": [
        "# Notebook on Google Colab Data"
      ],
      "metadata": {
        "id": "Ng6I1uy_uXTk"
      }
    },
    {
      "cell_type": "code",
      "source": [
        "! pip install pyspark"
      ],
      "metadata": {
        "collapsed": true,
        "id": "NrnjnGj1tqzN",
        "outputId": "f94da1ca-3590-41de-fe0c-a84066bbd5cd",
        "colab": {
          "base_uri": "https://localhost:8080/"
        }
      },
      "execution_count": 2,
      "outputs": [
        {
          "output_type": "stream",
          "name": "stdout",
          "text": [
            "Collecting pyspark\n",
            "  Downloading pyspark-3.5.1.tar.gz (317.0 MB)\n",
            "\u001b[2K     \u001b[90m━━━━━━━━━━━━━━━━━━━━━━━━━━━━━━━━━━━━━━━━\u001b[0m \u001b[32m317.0/317.0 MB\u001b[0m \u001b[31m4.5 MB/s\u001b[0m eta \u001b[36m0:00:00\u001b[0m\n",
            "\u001b[?25h  Preparing metadata (setup.py) ... \u001b[?25l\u001b[?25hdone\n",
            "Requirement already satisfied: py4j==0.10.9.7 in /usr/local/lib/python3.10/dist-packages (from pyspark) (0.10.9.7)\n",
            "Building wheels for collected packages: pyspark\n",
            "  Building wheel for pyspark (setup.py) ... \u001b[?25l\u001b[?25hdone\n",
            "  Created wheel for pyspark: filename=pyspark-3.5.1-py2.py3-none-any.whl size=317488491 sha256=ae26c3e3043d84cf137dbe6bfc656bc5e893937e3c1a330c60018abec3f6014e\n",
            "  Stored in directory: /root/.cache/pip/wheels/80/1d/60/2c256ed38dddce2fdd93be545214a63e02fbd8d74fb0b7f3a6\n",
            "Successfully built pyspark\n",
            "Installing collected packages: pyspark\n",
            "Successfully installed pyspark-3.5.1\n"
          ]
        }
      ]
    },
    {
      "cell_type": "code",
      "execution_count": 3,
      "metadata": {
        "id": "DSdvsmwRtoSe"
      },
      "outputs": [],
      "source": [
        "from pyspark.sql import SparkSession"
      ]
    },
    {
      "cell_type": "code",
      "execution_count": 5,
      "metadata": {
        "id": "LrUwvzZCtoSf"
      },
      "outputs": [],
      "source": [
        "spark = SparkSession.builder.master(\"local\").appName(\"ScenarioBasedQtns\").getOrCreate()"
      ]
    },
    {
      "cell_type": "code",
      "execution_count": 6,
      "metadata": {
        "id": "a9ZIch8xtoSg"
      },
      "outputs": [],
      "source": [
        "sc = spark.sparkContext"
      ]
    },
    {
      "cell_type": "code",
      "execution_count": 11,
      "metadata": {
        "id": "IQyeybcrtoSg"
      },
      "outputs": [],
      "source": [
        "rdd_in = sc.textFile(\"/content/titanic.csv\")"
      ]
    },
    {
      "cell_type": "code",
      "execution_count": 12,
      "metadata": {
        "id": "hwdRVevatoSh",
        "outputId": "8a58b1cb-50b8-4fc1-f9c8-ca9dc0cf28d7",
        "colab": {
          "base_uri": "https://localhost:8080/"
        }
      },
      "outputs": [
        {
          "output_type": "execute_result",
          "data": {
            "text/plain": [
              "['PassengerId,Survived,Pclass,Name,Sex,Age,SibSp,Parch,Ticket,Fare,Cabin,Embarked',\n",
              " '1,0,3,\"Braund, Mr. Owen Harris\",male,22,1,0,A/5 21171,7.25,,S',\n",
              " '2,1,1,\"Cumings, Mrs. John Bradley (Florence Briggs Thayer)\",female,38,1,0,PC 17599,71.2833,C85,C',\n",
              " '3,1,3,\"Heikkinen, Miss. Laina\",female,26,0,0,STON/O2. 3101282,7.925,,S']"
            ]
          },
          "metadata": {},
          "execution_count": 12
        }
      ],
      "source": [
        "rdd_in.take(4)"
      ]
    },
    {
      "cell_type": "markdown",
      "source": [
        "# using rdds"
      ],
      "metadata": {
        "id": "key8qiLO5X8P"
      }
    },
    {
      "cell_type": "code",
      "execution_count": 43,
      "metadata": {
        "id": "VdhueZgXtoSh",
        "outputId": "02e8bcf0-2fb4-4b5c-df2f-ab235ddffc17",
        "colab": {
          "base_uri": "https://localhost:8080/"
        }
      },
      "outputs": [
        {
          "output_type": "stream",
          "name": "stdout",
          "text": [
            "PassengerId,Survived,Pclass,Name,Sex,Age,SibSp,Parch,Ticket,Fare,Cabin,Embarked\n"
          ]
        },
        {
          "output_type": "execute_result",
          "data": {
            "text/plain": [
              "['1,0,3,\"Braund, Mr. Owen Harris\",male,22,1,0,A/5 21171,7.25,,S',\n",
              " '2,1,1,\"Cumings, Mrs. John Bradley (Florence Briggs Thayer)\",female,38,1,0,PC 17599,71.2833,C85,C',\n",
              " '3,1,3,\"Heikkinen, Miss. Laina\",female,26,0,0,STON/O2. 3101282,7.925,,S',\n",
              " '4,1,1,\"Futrelle, Mrs. Jacques Heath (Lily May Peel)\",female,35,1,0,113803,53.1,C123,S']"
            ]
          },
          "metadata": {},
          "execution_count": 43
        }
      ],
      "source": [
        "#rdd_data=rdd_in.filter(lambda x: not x.startswith(\"PassengerId\"))\n",
        "#rdd_header=rdd_in.filter(lambda x: x.startswith(\"PassengerId\"))\n",
        "rdd_header=rdd_in.first()\n",
        "print(rdd_header)\n",
        "\n",
        "data_rdd=rdd_in.filter(lambda x: x != rdd_header)\n",
        "data_rdd.take(4)"
      ]
    },
    {
      "cell_type": "code",
      "source": [
        "split_rdd = data_rdd.map(lambda row: row.split(\",\")).flatMap(lambda row: [(row[0], name_part) for name_part in row[3].split(\" \")])\n",
        "split_rdd.take(5)"
      ],
      "metadata": {
        "id": "1hQSrQ4I1gZ3",
        "outputId": "11584d1a-7881-4b24-eb80-00b32894967c",
        "colab": {
          "base_uri": "https://localhost:8080/"
        }
      },
      "execution_count": 46,
      "outputs": [
        {
          "output_type": "execute_result",
          "data": {
            "text/plain": [
              "[('1', '\"Braund'),\n",
              " ('2', '\"Cumings'),\n",
              " ('3', '\"Heikkinen'),\n",
              " ('4', '\"Futrelle'),\n",
              " ('5', '\"Allen')]"
            ]
          },
          "metadata": {},
          "execution_count": 46
        }
      ]
    },
    {
      "cell_type": "markdown",
      "source": [
        "# Using DFs"
      ],
      "metadata": {
        "id": "EyLPxkXh5Pm1"
      }
    },
    {
      "cell_type": "code",
      "source": [
        "df = spark.read.csv(\"/content/titanic.csv\", inferSchema=True, header=True)\n",
        "\n",
        "df.show(5, False)"
      ],
      "metadata": {
        "id": "LU0OMzBGxXy1",
        "outputId": "7d04512d-4043-4425-da6a-5b3751f7ed18",
        "colab": {
          "base_uri": "https://localhost:8080/"
        }
      },
      "execution_count": 49,
      "outputs": [
        {
          "output_type": "stream",
          "name": "stdout",
          "text": [
            "+-----------+--------+------+---------------------------------------------------+------+----+-----+-----+----------------+-------+-----+--------+\n",
            "|PassengerId|Survived|Pclass|Name                                               |Sex   |Age |SibSp|Parch|Ticket          |Fare   |Cabin|Embarked|\n",
            "+-----------+--------+------+---------------------------------------------------+------+----+-----+-----+----------------+-------+-----+--------+\n",
            "|1          |0       |3     |Braund, Mr. Owen Harris                            |male  |22.0|1    |0    |A/5 21171       |7.25   |NULL |S       |\n",
            "|2          |1       |1     |Cumings, Mrs. John Bradley (Florence Briggs Thayer)|female|38.0|1    |0    |PC 17599        |71.2833|C85  |C       |\n",
            "|3          |1       |3     |Heikkinen, Miss. Laina                             |female|26.0|0    |0    |STON/O2. 3101282|7.925  |NULL |S       |\n",
            "|4          |1       |1     |Futrelle, Mrs. Jacques Heath (Lily May Peel)       |female|35.0|1    |0    |113803          |53.1   |C123 |S       |\n",
            "|5          |0       |3     |Allen, Mr. William Henry                           |male  |35.0|0    |0    |373450          |8.05   |NULL |S       |\n",
            "+-----------+--------+------+---------------------------------------------------+------+----+-----+-----+----------------+-------+-----+--------+\n",
            "only showing top 5 rows\n",
            "\n"
          ]
        }
      ]
    },
    {
      "cell_type": "code",
      "source": [
        "df.select(\"PassengerId\", \"Name\", \"Ticket\").show(5, False)"
      ],
      "metadata": {
        "id": "4KOniNfpy11W",
        "outputId": "4f08a67d-c531-489d-d57e-ab782d73af41",
        "colab": {
          "base_uri": "https://localhost:8080/"
        }
      },
      "execution_count": 55,
      "outputs": [
        {
          "output_type": "stream",
          "name": "stdout",
          "text": [
            "+-----------+---------------------------------------------------+----------------+\n",
            "|PassengerId|Name                                               |Ticket          |\n",
            "+-----------+---------------------------------------------------+----------------+\n",
            "|1          |Braund, Mr. Owen Harris                            |A/5 21171       |\n",
            "|2          |Cumings, Mrs. John Bradley (Florence Briggs Thayer)|PC 17599        |\n",
            "|3          |Heikkinen, Miss. Laina                             |STON/O2. 3101282|\n",
            "|4          |Futrelle, Mrs. Jacques Heath (Lily May Peel)       |113803          |\n",
            "|5          |Allen, Mr. William Henry                           |373450          |\n",
            "+-----------+---------------------------------------------------+----------------+\n",
            "only showing top 5 rows\n",
            "\n"
          ]
        }
      ]
    },
    {
      "cell_type": "code",
      "source": [
        "df.select(\"PassengerId\", \"Name\", \"Ticket\").coalesce(1).write.csv(\"/content/titanicop.csv\",header=True)"
      ],
      "metadata": {
        "id": "TyBUQ-mK5pcs"
      },
      "execution_count": 56,
      "outputs": []
    },
    {
      "cell_type": "code",
      "source": [],
      "metadata": {
        "id": "sjE5ulc961UF"
      },
      "execution_count": null,
      "outputs": []
    }
  ],
  "metadata": {
    "kernelspec": {
      "display_name": "Python 3",
      "language": "python",
      "name": "python3"
    },
    "language_info": {
      "codemirror_mode": {
        "name": "ipython",
        "version": 3
      },
      "file_extension": ".py",
      "mimetype": "text/x-python",
      "name": "python",
      "nbconvert_exporter": "python",
      "pygments_lexer": "ipython3",
      "version": "3.10.13"
    },
    "colab": {
      "provenance": [],
      "toc_visible": true
    }
  },
  "nbformat": 4,
  "nbformat_minor": 0
}