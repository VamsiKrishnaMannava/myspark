{
  "nbformat": 4,
  "nbformat_minor": 0,
  "metadata": {
    "colab": {
      "provenance": [],
      "authorship_tag": "ABX9TyPFQXhWl0cGoMx6TdFKrjB8",
      "include_colab_link": true
    },
    "kernelspec": {
      "name": "python3",
      "display_name": "Python 3"
    },
    "language_info": {
      "name": "python"
    }
  },
  "cells": [
    {
      "cell_type": "markdown",
      "metadata": {
        "id": "view-in-github",
        "colab_type": "text"
      },
      "source": [
        "<a href=\"https://colab.research.google.com/github/VamsiKrishnaMannava/myspark/blob/main/Pyspark_1.ipynb\" target=\"_parent\"><img src=\"https://colab.research.google.com/assets/colab-badge.svg\" alt=\"Open In Colab\"/></a>"
      ]
    },
    {
      "cell_type": "code",
      "source": [
        "!pip install pyspark"
      ],
      "metadata": {
        "colab": {
          "base_uri": "https://localhost:8080/"
        },
        "id": "bZVz_D1NlWpG",
        "outputId": "7d4a565b-efab-4c7f-cfbe-9c6944f26b2a"
      },
      "execution_count": 2,
      "outputs": [
        {
          "output_type": "stream",
          "name": "stdout",
          "text": [
            "Collecting pyspark\n",
            "  Downloading pyspark-3.5.1.tar.gz (317.0 MB)\n",
            "\u001b[2K     \u001b[90m━━━━━━━━━━━━━━━━━━━━━━━━━━━━━━━━━━━━━━━━\u001b[0m \u001b[32m317.0/317.0 MB\u001b[0m \u001b[31m1.2 MB/s\u001b[0m eta \u001b[36m0:00:00\u001b[0m\n",
            "\u001b[?25h  Preparing metadata (setup.py) ... \u001b[?25l\u001b[?25hdone\n",
            "Requirement already satisfied: py4j==0.10.9.7 in /usr/local/lib/python3.10/dist-packages (from pyspark) (0.10.9.7)\n",
            "Building wheels for collected packages: pyspark\n",
            "  Building wheel for pyspark (setup.py) ... \u001b[?25l\u001b[?25hdone\n",
            "  Created wheel for pyspark: filename=pyspark-3.5.1-py2.py3-none-any.whl size=317488491 sha256=3313c3a3378022d35e67b54423d3e60d7daa6b1727afdd0e63c7276a78b6132f\n",
            "  Stored in directory: /root/.cache/pip/wheels/80/1d/60/2c256ed38dddce2fdd93be545214a63e02fbd8d74fb0b7f3a6\n",
            "Successfully built pyspark\n",
            "Installing collected packages: pyspark\n",
            "Successfully installed pyspark-3.5.1\n"
          ]
        }
      ]
    },
    {
      "cell_type": "code",
      "execution_count": 4,
      "metadata": {
        "id": "v1bsJPj-lNNp"
      },
      "outputs": [],
      "source": [
        "from pyspark.sql import SparkSession\n",
        "from pyspark.sql.functions import split, col"
      ]
    },
    {
      "cell_type": "code",
      "source": [
        "data = [\"1,Alice\\t30|New York\",\"2,Jonny\\t36|New Addington\",]"
      ],
      "metadata": {
        "id": "DBoxJrCElTC8"
      },
      "execution_count": 5,
      "outputs": []
    },
    {
      "cell_type": "code",
      "source": [
        "spark = SparkSession.builder.appName(name=\"Test-1\").getOrCreate()"
      ],
      "metadata": {
        "id": "IrM2qbKemVI3"
      },
      "execution_count": 10,
      "outputs": []
    },
    {
      "cell_type": "code",
      "source": [
        "df = spark.createDataFrame(data, \"string\")\n",
        "df.show()"
      ],
      "metadata": {
        "colab": {
          "base_uri": "https://localhost:8080/"
        },
        "id": "yb-SfuHUmGW8",
        "outputId": "e747c364-076a-4f39-a557-ca3e43a2939b"
      },
      "execution_count": 14,
      "outputs": [
        {
          "output_type": "stream",
          "name": "stdout",
          "text": [
            "+--------------------+\n",
            "|               value|\n",
            "+--------------------+\n",
            "|1,Alice\\t30|New York|\n",
            "|2,Jonny\\t36|New A...|\n",
            "+--------------------+\n",
            "\n"
          ]
        }
      ]
    },
    {
      "cell_type": "code",
      "source": [
        "split_col = split(df['value'],',|\\t|\\|')"
      ],
      "metadata": {
        "colab": {
          "base_uri": "https://localhost:8080/"
        },
        "id": "ei0HzngImTf0",
        "outputId": "c3756237-88bf-4b33-81f5-64696190dd69"
      },
      "execution_count": 19,
      "outputs": [
        {
          "output_type": "stream",
          "name": "stdout",
          "text": [
            "Column<'split(value, ,|\t|\\|, -1)'>\n"
          ]
        }
      ]
    },
    {
      "cell_type": "code",
      "source": [
        "df = df.withColumn('id',split_col.getItem(0)).withColumn('name',split_col.getItem(1)).withColumn('age',split_col.getItem(2)).withColumn('city', split_col.getItem(3))"
      ],
      "metadata": {
        "id": "Oebqi1oSnaMO"
      },
      "execution_count": 20,
      "outputs": []
    },
    {
      "cell_type": "code",
      "source": [
        "df.columns"
      ],
      "metadata": {
        "colab": {
          "base_uri": "https://localhost:8080/"
        },
        "id": "Gw3Lih_loKGm",
        "outputId": "35c106a6-7929-46b8-bdcd-c23f9542f457"
      },
      "execution_count": 24,
      "outputs": [
        {
          "output_type": "execute_result",
          "data": {
            "text/plain": [
              "['value', 'id', 'name', 'age', 'city']"
            ]
          },
          "metadata": {},
          "execution_count": 24
        }
      ]
    },
    {
      "cell_type": "code",
      "source": [
        "df.show()"
      ],
      "metadata": {
        "colab": {
          "base_uri": "https://localhost:8080/"
        },
        "id": "ZDm13URkpSYf",
        "outputId": "f7b63a3f-1a95-498e-dd7a-d94c83f484e5"
      },
      "execution_count": 28,
      "outputs": [
        {
          "output_type": "stream",
          "name": "stdout",
          "text": [
            "+--------------------+---+-----+---+-------------+\n",
            "|               value| id| name|age|         city|\n",
            "+--------------------+---+-----+---+-------------+\n",
            "|1,Alice\\t30|New York|  1|Alice| 30|     New York|\n",
            "|2,Jonny\\t36|New A...|  2|Jonny| 36|New Addington|\n",
            "+--------------------+---+-----+---+-------------+\n",
            "\n"
          ]
        }
      ]
    },
    {
      "cell_type": "code",
      "source": [
        "df.select('id', 'name', 'age', 'city').show()"
      ],
      "metadata": {
        "colab": {
          "base_uri": "https://localhost:8080/"
        },
        "id": "sdes1yVPo4nf",
        "outputId": "a26873c7-36e0-4366-a47a-39816f596968"
      },
      "execution_count": 27,
      "outputs": [
        {
          "output_type": "stream",
          "name": "stdout",
          "text": [
            "+---+-----+---+-------------+\n",
            "| id| name|age|         city|\n",
            "+---+-----+---+-------------+\n",
            "|  1|Alice| 30|     New York|\n",
            "|  2|Jonny| 36|New Addington|\n",
            "+---+-----+---+-------------+\n",
            "\n"
          ]
        }
      ]
    },
    {
      "cell_type": "code",
      "source": [],
      "metadata": {
        "id": "62lIWVsVpCIm"
      },
      "execution_count": null,
      "outputs": []
    }
  ]
}